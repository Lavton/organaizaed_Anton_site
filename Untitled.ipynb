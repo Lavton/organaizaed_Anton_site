{
 "cells": [
  {
   "cell_type": "code",
   "execution_count": 36,
   "id": "6148a181",
   "metadata": {},
   "outputs": [],
   "source": [
    "import os\n",
    "import subprocess\n",
    "import pathlib\n",
    "import datetime"
   ]
  },
  {
   "cell_type": "code",
   "execution_count": 7,
   "id": "1c6b1f6f",
   "metadata": {},
   "outputs": [
    {
     "data": {
      "text/plain": [
       "[PosixPath('заметки'),\n",
       " PosixPath('meta'),\n",
       " PosixPath('дела'),\n",
       " PosixPath('.obsidian'),\n",
       " PosixPath('привычки'),\n",
       " PosixPath('Untitled.ipynb'),\n",
       " PosixPath('.ipynb_checkpoints'),\n",
       " PosixPath('index.md'),\n",
       " PosixPath('template'),\n",
       " PosixPath('media')]"
      ]
     },
     "execution_count": 7,
     "metadata": {},
     "output_type": "execute_result"
    }
   ],
   "source": [
    "list(pathlib.Path(\".\").iterdir())"
   ]
  },
  {
   "cell_type": "code",
   "execution_count": 27,
   "id": "2ee89e2a",
   "metadata": {},
   "outputs": [],
   "source": [
    "outp = subprocess.run('find ./ -type f', shell=True, capture_output=True)"
   ]
  },
  {
   "cell_type": "code",
   "execution_count": 31,
   "id": "e97fc155",
   "metadata": {},
   "outputs": [
    {
     "data": {
      "text/plain": [
       "['./заметки/мой бэкграунд про заметки.md',\n",
       " './заметки/Что такое заметки и надо ли их делать.md',\n",
       " './заметки/О заметках.md',\n",
       " './meta/о темах, которые тут разбираем и обо мне.md',\n",
       " './дела/мой бэкграунд про ведение дел.md',\n",
       " './.obsidian/community-plugins.json',\n",
       " './.obsidian/core-plugins.json',\n",
       " './.obsidian/templates.json',\n",
       " './.obsidian/app.json',\n",
       " './.obsidian/core-plugins-migration.json',\n",
       " './.obsidian/workspace.json',\n",
       " './.obsidian/plugins/obsidian-auto-link-title/styles.css',\n",
       " './.obsidian/plugins/obsidian-auto-link-title/main.js',\n",
       " './.obsidian/plugins/obsidian-auto-link-title/manifest.json',\n",
       " './.obsidian/plugins/shortcuts-extender/main.js',\n",
       " './.obsidian/plugins/shortcuts-extender/manifest.json',\n",
       " './.obsidian/plugins/obsidian-admonition/styles.css',\n",
       " './.obsidian/plugins/obsidian-admonition/main.js',\n",
       " './.obsidian/plugins/obsidian-admonition/data.json',\n",
       " './.obsidian/plugins/obsidian-admonition/manifest.json',\n",
       " './.obsidian/appearance.json',\n",
       " './.obsidian/types.json',\n",
       " './Untitled.ipynb',\n",
       " './.ipynb_checkpoints/Untitled-checkpoint.ipynb',\n",
       " './index.md',\n",
       " './template/base_template.md']"
      ]
     },
     "execution_count": 31,
     "metadata": {},
     "output_type": "execute_result"
    }
   ],
   "source": [
    "allFiles = outp.stdout.decode().strip().split(\"\\n\")\n",
    "allFiles"
   ]
  },
  {
   "cell_type": "code",
   "execution_count": 35,
   "id": "f3cbdacc",
   "metadata": {},
   "outputs": [
    {
     "data": {
      "text/plain": [
       "['./заметки/мой бэкграунд про заметки.md',\n",
       " './заметки/Что такое заметки и надо ли их делать.md',\n",
       " './заметки/О заметках.md',\n",
       " './meta/о темах, которые тут разбираем и обо мне.md',\n",
       " './дела/мой бэкграунд про ведение дел.md',\n",
       " './index.md',\n",
       " './template/base_template.md']"
      ]
     },
     "execution_count": 35,
     "metadata": {},
     "output_type": "execute_result"
    }
   ],
   "source": [
    "nodes = [f for f in allFiles if ((not f.startswith(\"./.obsidian\")) and f.endswith(\".md\"))]\n",
    "nodes"
   ]
  },
  {
   "cell_type": "code",
   "execution_count": 39,
   "id": "bda838d9",
   "metadata": {},
   "outputs": [],
   "source": [
    "# https://www.tutorialspoint.com/How-to-get-file-creation-and-modification-date-times-in-Python\n",
    "\n",
    "dates = [datetime.datetime.fromtimestamp((os.path.getmtime(n))) for n in nodes]"
   ]
  },
  {
   "cell_type": "code",
   "execution_count": 40,
   "id": "34a1f8aa",
   "metadata": {},
   "outputs": [
    {
     "data": {
      "text/plain": [
       "[datetime.datetime(2024, 2, 6, 15, 40, 46, 67303),\n",
       " datetime.datetime(2024, 2, 6, 15, 10, 6, 523992),\n",
       " datetime.datetime(2024, 2, 6, 13, 28, 16, 318491),\n",
       " datetime.datetime(2024, 2, 6, 15, 13, 9, 134955),\n",
       " datetime.datetime(2024, 2, 6, 17, 11, 54, 389417),\n",
       " datetime.datetime(2024, 2, 6, 13, 28, 41, 928855),\n",
       " datetime.datetime(2024, 2, 5, 22, 44, 8, 122999)]"
      ]
     },
     "execution_count": 40,
     "metadata": {},
     "output_type": "execute_result"
    }
   ],
   "source": [
    "dates"
   ]
  },
  {
   "cell_type": "code",
   "execution_count": 47,
   "id": "1207459b",
   "metadata": {},
   "outputs": [],
   "source": [
    "sorted_notes = sorted(list(zip(nodes, dates)), key=lambda x: x[1], reverse=True)"
   ]
  },
  {
   "cell_type": "code",
   "execution_count": 52,
   "id": "ca4cf2ef",
   "metadata": {},
   "outputs": [
    {
     "name": "stdout",
     "output_type": "stream",
     "text": [
      "./дела/мой бэкграунд про ведение дел.md:\t 2024-02-06 17:11:54.389417\n",
      "./заметки/мой бэкграунд про заметки.md:\t 2024-02-06 15:40:46.067303\n",
      "./meta/о темах, которые тут разбираем и обо мне.md:\t 2024-02-06 15:13:09.134955\n",
      "./заметки/Что такое заметки и надо ли их делать.md:\t 2024-02-06 15:10:06.523992\n",
      "./index.md:\t 2024-02-06 13:28:41.928855\n",
      "./заметки/О заметках.md:\t 2024-02-06 13:28:16.318491\n",
      "./template/base_template.md:\t 2024-02-05 22:44:08.122999\n"
     ]
    }
   ],
   "source": [
    "for sn in sorted_notes:\n",
    "    print(f\"{sn[0]}:\\t {sn[1]}\")"
   ]
  },
  {
   "cell_type": "code",
   "execution_count": null,
   "id": "6039d40c",
   "metadata": {},
   "outputs": [],
   "source": [
    "# resultNotes = sn\n",
    "\n",
    "# todo: может быть мне нужна просто функция \"добавь в конец файла ссылку на телегу?\""
   ]
  }
 ],
 "metadata": {
  "kernelspec": {
   "display_name": "Python 3 (ipykernel)",
   "language": "python",
   "name": "python3"
  },
  "language_info": {
   "codemirror_mode": {
    "name": "ipython",
    "version": 3
   },
   "file_extension": ".py",
   "mimetype": "text/x-python",
   "name": "python",
   "nbconvert_exporter": "python",
   "pygments_lexer": "ipython3",
   "version": "3.8.5"
  }
 },
 "nbformat": 4,
 "nbformat_minor": 5
}
